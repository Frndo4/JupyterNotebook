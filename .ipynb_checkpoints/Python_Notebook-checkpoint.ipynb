{
 "cells": [
  {
   "cell_type": "code",
   "execution_count": null,
   "id": "a3a517f4",
   "metadata": {},
   "outputs": [],
   "source": [
    "start_year=2022\n",
    "print(start_year)\n",
    "type(start_year)"
   ]
  },
  {
   "cell_type": "code",
   "execution_count": null,
   "id": "574eb852",
   "metadata": {},
   "outputs": [],
   "source": [
    "goodbye_message='Hasta pronto'\n",
    "print(goodbye_message)\n",
    "type(goodbye_message)"
   ]
  },
  {
   "cell_type": "code",
   "execution_count": 80,
   "id": "48d56d8f",
   "metadata": {},
   "outputs": [
    {
     "data": {
      "text/plain": [
       "1"
      ]
     },
     "execution_count": 80,
     "metadata": {},
     "output_type": "execute_result"
    }
   ],
   "source": [
    "abs(-1)\n",
    "\n"
   ]
  },
  {
   "cell_type": "code",
   "execution_count": null,
   "id": "862aabcb",
   "metadata": {},
   "outputs": [],
   "source": [
    "round(5.6398)"
   ]
  },
  {
   "cell_type": "code",
   "execution_count": null,
   "id": "c6edee5a",
   "metadata": {},
   "outputs": [],
   "source": [
    "round(5.8974596, 2)"
   ]
  },
  {
   "cell_type": "code",
   "execution_count": null,
   "id": "ffc2bfc3",
   "metadata": {},
   "outputs": [],
   "source": [
    "round(5.8974596, 5)"
   ]
  },
  {
   "cell_type": "code",
   "execution_count": null,
   "id": "ea8a1ab2",
   "metadata": {},
   "outputs": [],
   "source": [
    "total_items=100\n",
    "sold_items=25\n",
    "total_items=total_items-sold_items\n",
    "print(total_items)"
   ]
  },
  {
   "cell_type": "code",
   "execution_count": null,
   "id": "b49ac3a6",
   "metadata": {},
   "outputs": [],
   "source": [
    "total_items=100\n",
    "sold_items=25\n",
    "total_items-=sold_items\n",
    "print(total_items)"
   ]
  },
  {
   "cell_type": "code",
   "execution_count": null,
   "id": "b2049d4b",
   "metadata": {},
   "outputs": [],
   "source": [
    "#Salto de línea\n",
    "msg = ' Primera línea \\n Segunda línea \\n Tercera línea'\n",
    "print(msg)\n"
   ]
  },
  {
   "cell_type": "code",
   "execution_count": null,
   "id": "54fcbce0",
   "metadata": {},
   "outputs": [],
   "source": [
    "#Tabulador\n",
    "msg = 'Valor = \\t40'\n",
    "print(msg)\n"
   ]
  },
  {
   "cell_type": "code",
   "execution_count": null,
   "id": "92248a36",
   "metadata": {},
   "outputs": [],
   "source": [
    "#Comilla simple\n",
    "msg = 'Necesitamos \\'escapar\\' la comilla simple'\n",
    "print(msg)"
   ]
  },
  {
   "cell_type": "code",
   "execution_count": null,
   "id": "02a032ed",
   "metadata": {},
   "outputs": [],
   "source": [
    "#Barra invertida\n",
    "msg = 'Capítulo \\\\ Sección \\\\ Encabezado'\n",
    "print(msg)"
   ]
  },
  {
   "cell_type": "code",
   "execution_count": null,
   "id": "7eedcf6a",
   "metadata": {},
   "outputs": [],
   "source": [
    "msg1 = '¿Sabes por qué estoy acá?'\n",
    "msg2 = 'Porque me apasiona'\n",
    "print(msg1, msg2)\n",
    "print(msg1, msg2, sep='|')\n",
    "print(msg2, end='!!')\n"
   ]
  },
  {
   "cell_type": "code",
   "execution_count": null,
   "id": "56ca21db",
   "metadata": {},
   "outputs": [],
   "source": [
    "name = input('Introduzca su nombre: ')\n"
   ]
  },
  {
   "cell_type": "code",
   "execution_count": null,
   "id": "76037034",
   "metadata": {},
   "outputs": [],
   "source": [
    "name"
   ]
  },
  {
   "cell_type": "code",
   "execution_count": null,
   "id": "3a691c35",
   "metadata": {},
   "outputs": [],
   "source": [
    "type(name)"
   ]
  },
  {
   "cell_type": "code",
   "execution_count": null,
   "id": "a787ffb5",
   "metadata": {},
   "outputs": [],
   "source": [
    "age = input('Introduzca su edad: ')"
   ]
  },
  {
   "cell_type": "code",
   "execution_count": null,
   "id": "0d317dca",
   "metadata": {},
   "outputs": [],
   "source": [
    "age"
   ]
  },
  {
   "cell_type": "code",
   "execution_count": null,
   "id": "d4200ce8",
   "metadata": {},
   "outputs": [],
   "source": [
    "type(age)"
   ]
  },
  {
   "cell_type": "code",
   "execution_count": 58,
   "id": "689efde3",
   "metadata": {},
   "outputs": [
    {
     "data": {
      "text/plain": [
       "'Cuando el río suenaagua lleva'"
      ]
     },
     "execution_count": 58,
     "metadata": {},
     "output_type": "execute_result"
    }
   ],
   "source": [
    "proverb1 = 'Cuando el río suena'\n",
    "proverb2 = 'agua lleva'\n",
    "proverb1 + proverb2"
   ]
  },
  {
   "cell_type": "code",
   "execution_count": 59,
   "id": "1ab6fca0",
   "metadata": {},
   "outputs": [
    {
     "data": {
      "text/plain": [
       "'Cuando el río suena, agua lleva'"
      ]
     },
     "execution_count": 59,
     "metadata": {},
     "output_type": "execute_result"
    }
   ],
   "source": [
    "proverb1 + ', ' + proverb2"
   ]
  },
  {
   "cell_type": "code",
   "execution_count": 63,
   "id": "6f0bc54a",
   "metadata": {},
   "outputs": [
    {
     "data": {
      "text/plain": [
       "'Wow Wow Wow Wow '"
      ]
     },
     "execution_count": 63,
     "metadata": {},
     "output_type": "execute_result"
    }
   ],
   "source": [
    "reaction = 'Wow '\n",
    "reaction*4"
   ]
  },
  {
   "cell_type": "code",
   "execution_count": 64,
   "id": "9ec49745",
   "metadata": {},
   "outputs": [
    {
     "data": {
      "text/plain": [
       "'H'"
      ]
     },
     "execution_count": 64,
     "metadata": {},
     "output_type": "execute_result"
    }
   ],
   "source": [
    "#Indexación en los strings\n",
    "sentence = 'Hola, mundo'\n",
    "sentence[0]"
   ]
  },
  {
   "cell_type": "code",
   "execution_count": 65,
   "id": "e1cde143",
   "metadata": {},
   "outputs": [
    {
     "data": {
      "text/plain": [
       "'o'"
      ]
     },
     "execution_count": 65,
     "metadata": {},
     "output_type": "execute_result"
    }
   ],
   "source": [
    "sentence[-1]"
   ]
  },
  {
   "cell_type": "code",
   "execution_count": 66,
   "id": "3f1bff03",
   "metadata": {},
   "outputs": [
    {
     "data": {
      "text/plain": [
       "','"
      ]
     },
     "execution_count": 66,
     "metadata": {},
     "output_type": "execute_result"
    }
   ],
   "source": [
    "sentence[4]"
   ]
  },
  {
   "cell_type": "code",
   "execution_count": 67,
   "id": "1901757a",
   "metadata": {},
   "outputs": [
    {
     "data": {
      "text/plain": [
       "'m'"
      ]
     },
     "execution_count": 67,
     "metadata": {},
     "output_type": "execute_result"
    }
   ],
   "source": [
    "sentence[-5]"
   ]
  },
  {
   "cell_type": "code",
   "execution_count": 68,
   "id": "3c108b77",
   "metadata": {},
   "outputs": [
    {
     "data": {
      "text/plain": [
       "' '"
      ]
     },
     "execution_count": 68,
     "metadata": {},
     "output_type": "execute_result"
    }
   ],
   "source": [
    "sentence[5]"
   ]
  },
  {
   "cell_type": "code",
   "execution_count": 69,
   "id": "c4778c3c",
   "metadata": {},
   "outputs": [
    {
     "data": {
      "text/plain": [
       "'Hola, mundo'"
      ]
     },
     "execution_count": 69,
     "metadata": {},
     "output_type": "execute_result"
    }
   ],
   "source": [
    "sentence[:]"
   ]
  },
  {
   "cell_type": "code",
   "execution_count": 72,
   "id": "9fd53f6a",
   "metadata": {},
   "outputs": [
    {
     "data": {
      "text/plain": [
       "'la, mundo'"
      ]
     },
     "execution_count": 72,
     "metadata": {},
     "output_type": "execute_result"
    }
   ],
   "source": [
    "sentence[2:]"
   ]
  },
  {
   "cell_type": "code",
   "execution_count": 76,
   "id": "2edb002b",
   "metadata": {},
   "outputs": [
    {
     "data": {
      "text/plain": [
       "'Hola'"
      ]
     },
     "execution_count": 76,
     "metadata": {},
     "output_type": "execute_result"
    }
   ],
   "source": [
    "sentence[:4]"
   ]
  },
  {
   "cell_type": "code",
   "execution_count": 77,
   "id": "56236e52",
   "metadata": {},
   "outputs": [
    {
     "data": {
      "text/plain": [
       "'la,'"
      ]
     },
     "execution_count": 77,
     "metadata": {},
     "output_type": "execute_result"
    }
   ],
   "source": [
    "sentence[2:5]"
   ]
  },
  {
   "cell_type": "code",
   "execution_count": 79,
   "id": "38b863c5",
   "metadata": {},
   "outputs": [
    {
     "data": {
      "text/plain": [
       "'l,m'"
      ]
     },
     "execution_count": 79,
     "metadata": {},
     "output_type": "execute_result"
    }
   ],
   "source": [
    "sentence[2:7:2]"
   ]
  },
  {
   "cell_type": "code",
   "execution_count": null,
   "id": "a11c934b",
   "metadata": {},
   "outputs": [],
   "source": [
    "proverb = 'Lo cortés no quita lo valiente'\n",
    "len(proverb)"
   ]
  },
  {
   "cell_type": "code",
   "execution_count": null,
   "id": "4c7713c9",
   "metadata": {},
   "outputs": [],
   "source": [
    "empty = ''\n",
    "len(empty)"
   ]
  },
  {
   "cell_type": "code",
   "execution_count": null,
   "id": "e604c12b",
   "metadata": {},
   "outputs": [],
   "source": [
    "proverb = 'Más vale malo conocido que bueno por conocer'"
   ]
  },
  {
   "cell_type": "code",
   "execution_count": null,
   "id": "f359cb5e",
   "metadata": {},
   "outputs": [],
   "source": [
    "'malo' in proverb"
   ]
  },
  {
   "cell_type": "code",
   "execution_count": null,
   "id": "b92cbb5c",
   "metadata": {},
   "outputs": [],
   "source": [
    "'bueno' in proverb"
   ]
  },
  {
   "cell_type": "code",
   "execution_count": null,
   "id": "681efb3d",
   "metadata": {},
   "outputs": [],
   "source": [
    "'regular' in proverb"
   ]
  },
  {
   "cell_type": "code",
   "execution_count": null,
   "id": "c195413b",
   "metadata": {},
   "outputs": [],
   "source": [
    "dna_sequence = 'ATGAAATTGAAATGGGA'"
   ]
  },
  {
   "cell_type": "code",
   "execution_count": null,
   "id": "751e04e7",
   "metadata": {},
   "outputs": [],
   "source": [
    "not('C' in dna_sequence) #Primera aproximación"
   ]
  },
  {
   "cell_type": "code",
   "execution_count": null,
   "id": "23130ca0",
   "metadata": {},
   "outputs": [],
   "source": [
    "'C' not in dna_sequence #Forma  pitónica"
   ]
  },
  {
   "cell_type": "code",
   "execution_count": null,
   "id": "b311239d",
   "metadata": {},
   "outputs": [],
   "source": [
    "#Dividir una cadena \n",
    "proverb = 'No hay mal que por bien no venga'\n",
    "proverb.split()"
   ]
  },
  {
   "cell_type": "code",
   "execution_count": null,
   "id": "4372e4ab",
   "metadata": {},
   "outputs": [],
   "source": [
    "tools = 'Martillo,Sierra,Destornillador'\n",
    "tools.split(',')"
   ]
  },
  {
   "cell_type": "code",
   "execution_count": null,
   "id": "720b0330",
   "metadata": {},
   "outputs": [],
   "source": [
    "#Limpiar cadenas\n",
    "serial_number = '\\n\\t   \\n 48374983274832   \\n\\n\\t  \\t   \\n'"
   ]
  },
  {
   "cell_type": "code",
   "execution_count": null,
   "id": "fc7d0260",
   "metadata": {},
   "outputs": [],
   "source": [
    "serial_number.strip()"
   ]
  },
  {
   "cell_type": "code",
   "execution_count": null,
   "id": "e9049f38",
   "metadata": {},
   "outputs": [],
   "source": [
    "serial_number.lstrip()"
   ]
  },
  {
   "cell_type": "code",
   "execution_count": null,
   "id": "8a4a78cb",
   "metadata": {},
   "outputs": [],
   "source": [
    "serial_number.rstrip()"
   ]
  },
  {
   "cell_type": "code",
   "execution_count": null,
   "id": "e94b8f5c",
   "metadata": {},
   "outputs": [],
   "source": [
    "#Búsquedas \n",
    "\n",
    "#lyrics.startswith('Quizás')\n",
    "#lyrics.endswith('Final')\n",
    "\n",
    "#lyrics.find('amor')\n",
    "#lyrics.index('amor')\n",
    "\n",
    "#lyrics.count('mi')"
   ]
  },
  {
   "cell_type": "code",
   "execution_count": null,
   "id": "abfd6f6e",
   "metadata": {},
   "outputs": [],
   "source": [
    "proverb = 'Quien mal anda mal acaba'\n",
    "proverb.replace('mal', 'bien')"
   ]
  },
  {
   "cell_type": "code",
   "execution_count": null,
   "id": "efa1fabc",
   "metadata": {},
   "outputs": [],
   "source": [
    "proverb.replace('mal', 'bien', 1)"
   ]
  },
  {
   "cell_type": "code",
   "execution_count": null,
   "id": "c4b6d46c",
   "metadata": {},
   "outputs": [],
   "source": [
    "proverb.replace('mal', 'bien', 2)"
   ]
  },
  {
   "cell_type": "code",
   "execution_count": null,
   "id": "61f228f4",
   "metadata": {},
   "outputs": [],
   "source": [
    "#Mayúsculas y minúsculas\n",
    "\n",
    "proverb = 'Quien a buen árbol se arrima Buena Sombra le cobija'\n",
    "proverb"
   ]
  },
  {
   "cell_type": "code",
   "execution_count": null,
   "id": "79355fe7",
   "metadata": {},
   "outputs": [],
   "source": [
    "proverb.capitalize()"
   ]
  },
  {
   "cell_type": "code",
   "execution_count": null,
   "id": "4f2cfe93",
   "metadata": {},
   "outputs": [],
   "source": [
    "proverb.title()"
   ]
  },
  {
   "cell_type": "code",
   "execution_count": null,
   "id": "b4798795",
   "metadata": {},
   "outputs": [],
   "source": [
    "proverb.upper()"
   ]
  },
  {
   "cell_type": "code",
   "execution_count": null,
   "id": "8e9943ff",
   "metadata": {},
   "outputs": [],
   "source": [
    "proverb.lower()"
   ]
  },
  {
   "cell_type": "code",
   "execution_count": null,
   "id": "6aca4933",
   "metadata": {},
   "outputs": [],
   "source": [
    "proverb.swapcase()"
   ]
  },
  {
   "cell_type": "code",
   "execution_count": null,
   "id": "bc48ab63",
   "metadata": {},
   "outputs": [],
   "source": [
    "#Detectar si todos los caracteres son letras\n",
    "'abc'.isalpha()"
   ]
  },
  {
   "cell_type": "code",
   "execution_count": null,
   "id": "d252185c",
   "metadata": {},
   "outputs": [],
   "source": [
    "'a-b-c'.isalpha()"
   ]
  },
  {
   "cell_type": "code",
   "execution_count": null,
   "id": "f9cda2ea",
   "metadata": {},
   "outputs": [],
   "source": [
    "#Detectar si todos los caracteres son números\n",
    "'314'.isnumeric() "
   ]
  },
  {
   "cell_type": "code",
   "execution_count": null,
   "id": "a88a9717",
   "metadata": {},
   "outputs": [],
   "source": [
    "'3.14'.isnumeric()"
   ]
  },
  {
   "cell_type": "code",
   "execution_count": null,
   "id": "b42b86b7",
   "metadata": {},
   "outputs": [],
   "source": [
    "#Detectar si todos los caracteres son letras o números\n",
    "'R2D2'.isalnum()"
   ]
  },
  {
   "cell_type": "code",
   "execution_count": null,
   "id": "395262f6",
   "metadata": {},
   "outputs": [],
   "source": [
    "'C3-P0'.isalnum()"
   ]
  },
  {
   "cell_type": "code",
   "execution_count": null,
   "id": "459a4d3a",
   "metadata": {},
   "outputs": [],
   "source": [
    "#Detectar mayúsculas y minúsculas\n",
    "'BIG'.isupper()"
   ]
  },
  {
   "cell_type": "code",
   "execution_count": null,
   "id": "daeec97a",
   "metadata": {},
   "outputs": [],
   "source": [
    "'Big'.isupper()"
   ]
  },
  {
   "cell_type": "code",
   "execution_count": null,
   "id": "3a8de5a8",
   "metadata": {},
   "outputs": [],
   "source": [
    "'small'.islower()"
   ]
  },
  {
   "cell_type": "code",
   "execution_count": null,
   "id": "5ed2d6eb",
   "metadata": {},
   "outputs": [],
   "source": [
    "'First Heading'.istitle()"
   ]
  },
  {
   "cell_type": "code",
   "execution_count": null,
   "id": "6399a2eb",
   "metadata": {},
   "outputs": [],
   "source": [
    "#Condicional 'if y else'\n",
    "temperature = 20\n",
    "if temperature > 35:\n",
    "    print('Aviso por alta temperatura')\n",
    "else:\n",
    "    print('Parámetros normales')"
   ]
  },
  {
   "cell_type": "code",
   "execution_count": null,
   "id": "14ae952c",
   "metadata": {},
   "outputs": [],
   "source": [
    "#Cuando queremos condiciones dentro de condiciones\n",
    "temperature = 28\n",
    "if temperature < 20:\n",
    "    if temperature < 10:\n",
    "        print('Nivel azul')\n",
    "    else:\n",
    "        print('Nivel verde')\n",
    "else:\n",
    "    if temperature < 30:\n",
    "        print('Nivel naranja')\n",
    "    else:\n",
    "        print('Nivel rojo')"
   ]
  },
  {
   "cell_type": "code",
   "execution_count": null,
   "id": "ba07970e",
   "metadata": {},
   "outputs": [],
   "source": [
    "#Sustituyendo con elif\n",
    "temperature = 48\n",
    "if temperature < 20:\n",
    "    if temperature < 10:\n",
    "        print('Nivel azul')\n",
    "    else:\n",
    "        print('Nivel verde')\n",
    "elif temperature < 30:\n",
    "        print('Nivel naranja')\n",
    "else:\n",
    "    print('Nivel rojo')"
   ]
  },
  {
   "cell_type": "code",
   "execution_count": null,
   "id": "05c28111",
   "metadata": {},
   "outputs": [],
   "source": [
    "#Operadores de comparación\n",
    "value = 8\n",
    "value == 8"
   ]
  },
  {
   "cell_type": "code",
   "execution_count": null,
   "id": "0349ec3b",
   "metadata": {},
   "outputs": [],
   "source": [
    "value != 8"
   ]
  },
  {
   "cell_type": "code",
   "execution_count": null,
   "id": "4d15086e",
   "metadata": {},
   "outputs": [],
   "source": [
    "value < 12"
   ]
  },
  {
   "cell_type": "code",
   "execution_count": null,
   "id": "23168de0",
   "metadata": {},
   "outputs": [],
   "source": [
    "value <= 7"
   ]
  },
  {
   "cell_type": "code",
   "execution_count": null,
   "id": "9e33746a",
   "metadata": {},
   "outputs": [],
   "source": [
    "value > 4"
   ]
  },
  {
   "cell_type": "code",
   "execution_count": null,
   "id": "c4c20b18",
   "metadata": {},
   "outputs": [],
   "source": [
    "value >= 9"
   ]
  },
  {
   "cell_type": "code",
   "execution_count": null,
   "id": "b4d50f92",
   "metadata": {},
   "outputs": [],
   "source": [
    "#Entre otras condiciones\n",
    "x = 8\n",
    "x > 4 or x > 12"
   ]
  },
  {
   "cell_type": "code",
   "execution_count": null,
   "id": "31e0f22a",
   "metadata": {},
   "outputs": [],
   "source": [
    "x > 4 and x > 12"
   ]
  },
  {
   "cell_type": "code",
   "execution_count": null,
   "id": "d9b80049",
   "metadata": {},
   "outputs": [],
   "source": [
    "not(x != 8)"
   ]
  },
  {
   "cell_type": "code",
   "execution_count": null,
   "id": "3fff7a35",
   "metadata": {},
   "outputs": [],
   "source": [
    "4 <= value <= 12"
   ]
  },
  {
   "cell_type": "code",
   "execution_count": null,
   "id": "2343660c",
   "metadata": {},
   "outputs": [],
   "source": [
    "#Booleanos en condiciones\n",
    "is_cold = True\n",
    "if is_cold == True:\n",
    "    print('Coge chaqueta')\n",
    "else:\n",
    "    print('Usa camiseta')"
   ]
  },
  {
   "cell_type": "code",
   "execution_count": null,
   "id": "82da9eaf",
   "metadata": {},
   "outputs": [],
   "source": [
    "is_cold = True\n",
    "if is_cold:\n",
    "    print('Coge chaqueta')\n",
    "else:\n",
    "    print('Usa camiseta')"
   ]
  },
  {
   "cell_type": "code",
   "execution_count": null,
   "id": "728b7aec",
   "metadata": {},
   "outputs": [],
   "source": [
    "is_cold = False\n",
    "if not is_cold:  #Equivalente a is_cold == False\n",
    "    print('Coge chaqueta')\n",
    "else:\n",
    "    print('Usa camiseta')"
   ]
  },
  {
   "cell_type": "code",
   "execution_count": null,
   "id": "42280ee3",
   "metadata": {},
   "outputs": [],
   "source": [
    "#Bucle While \n",
    "value = 1\n",
    "while value <= 4:\n",
    "    print(value)\n",
    "    value += 1"
   ]
  },
  {
   "cell_type": "code",
   "execution_count": null,
   "id": "0699fb4e",
   "metadata": {},
   "outputs": [],
   "source": [
    "#Romper ciclo while con break\n",
    "num = 20\n",
    "while num >= 1:\n",
    "    if num % 3 == 0:\n",
    "        print(num)\n",
    "        break\n",
    "    num -= 1"
   ]
  },
  {
   "cell_type": "code",
   "execution_count": null,
   "id": "acb05bd2",
   "metadata": {},
   "outputs": [],
   "source": [
    "#Comprobar la rotura del ciclo\n",
    "num = 8\n",
    "while num >= 1:\n",
    "    if num % 9 == 0:\n",
    "        print(f'{num} is a multiple of 9!')\n",
    "        break\n",
    "    num -=1 \n",
    "else:\n",
    "    print('No multiples of 9 found!')\n",
    "        "
   ]
  },
  {
   "cell_type": "code",
   "execution_count": null,
   "id": "e72cad8b",
   "metadata": {},
   "outputs": [],
   "source": [
    "#Continuar un bucle\n",
    "num = 21\n",
    "while num >= 1:\n",
    "    num -= 1\n",
    "    if num % 3 == 0:\n",
    "        continue\n",
    "    print(num, end=', ') #Evitar salto de línea"
   ]
  },
  {
   "cell_type": "code",
   "execution_count": null,
   "id": "7681e84a",
   "metadata": {},
   "outputs": [],
   "source": [
    "#Ciclo for\n",
    "word = 'Python'\n",
    "for letter in word:\n",
    "    print(letter, end = ' ')"
   ]
  },
  {
   "cell_type": "code",
   "execution_count": null,
   "id": "e26d9fa0",
   "metadata": {},
   "outputs": [],
   "source": [
    "#Romper un bucle for\n",
    "word = 'Python'\n",
    "for letter in word:\n",
    "    if letter == 't':\n",
    "        break\n",
    "    print(letter)"
   ]
  },
  {
   "cell_type": "code",
   "execution_count": 50,
   "id": "737c9c69",
   "metadata": {},
   "outputs": [
    {
     "name": "stdout",
     "output_type": "stream",
     "text": [
      "0\n",
      "1\n",
      "2\n"
     ]
    }
   ],
   "source": [
    "#Iterar un rango de números\n",
    "for i in range(3):\n",
    "    print(i)"
   ]
  },
  {
   "cell_type": "code",
   "execution_count": 49,
   "id": "60733f37",
   "metadata": {},
   "outputs": [
    {
     "name": "stdout",
     "output_type": "stream",
     "text": [
      "1\n",
      "3\n",
      "5\n"
     ]
    }
   ],
   "source": [
    "for i in range(1, 6, 2):\n",
    "    print(i)"
   ]
  },
  {
   "cell_type": "code",
   "execution_count": 51,
   "id": "013839a6",
   "metadata": {},
   "outputs": [
    {
     "name": "stdout",
     "output_type": "stream",
     "text": [
      "Repeat me 10 times!\n",
      "Repeat me 10 times!\n",
      "Repeat me 10 times!\n",
      "Repeat me 10 times!\n",
      "Repeat me 10 times!\n",
      "Repeat me 10 times!\n",
      "Repeat me 10 times!\n",
      "Repeat me 10 times!\n",
      "Repeat me 10 times!\n",
      "Repeat me 10 times!\n"
     ]
    }
   ],
   "source": [
    "for _ in range(10):\n",
    "    print('Repeat me 10 times!')"
   ]
  },
  {
   "cell_type": "code",
   "execution_count": 57,
   "id": "47cb5450",
   "metadata": {},
   "outputs": [
    {
     "name": "stdout",
     "output_type": "stream",
     "text": [
      "9\n",
      "18\n",
      "27\n",
      "36\n",
      "45\n",
      "54\n",
      "63\n",
      "72\n",
      "81\n"
     ]
    }
   ],
   "source": [
    "#Bucles anidados\n",
    "for i in range(1, 10):\n",
    "    for j in range(1, 10):\n",
    "        result = i * j\n",
    "    print(result)    "
   ]
  },
  {
   "cell_type": "code",
   "execution_count": null,
   "id": "99e7ea68",
   "metadata": {},
   "outputs": [],
   "source": []
  },
  {
   "cell_type": "code",
   "execution_count": null,
   "id": "4d150ffe",
   "metadata": {},
   "outputs": [],
   "source": []
  },
  {
   "cell_type": "code",
   "execution_count": null,
   "id": "313e4ead",
   "metadata": {},
   "outputs": [],
   "source": []
  },
  {
   "cell_type": "code",
   "execution_count": null,
   "id": "08a2437a",
   "metadata": {},
   "outputs": [],
   "source": []
  },
  {
   "cell_type": "markdown",
   "id": "f764c2ec",
   "metadata": {},
   "source": [
    "# Ejercicios de condicionales"
   ]
  },
  {
   "cell_type": "markdown",
   "id": "d0c90772",
   "metadata": {},
   "source": [
    "## Ejercicio 1"
   ]
  },
  {
   "cell_type": "markdown",
   "id": "79bb78f8",
   "metadata": {},
   "source": [
    "Escribir un programa que almacene la cadena de caracteres contraseña en una variable, pregunte al usuario por la contraseña e imprima por pantalla si la contraseña introducida por el usuario coincide con la guardada en la variable sin tener en cuenta mayúsculas y minúsculas."
   ]
  },
  {
   "cell_type": "code",
   "execution_count": 9,
   "id": "c07d9892",
   "metadata": {},
   "outputs": [
    {
     "name": "stdout",
     "output_type": "stream",
     "text": [
      "Introduce la contraseña \n",
      "hola\n",
      "Contraseña correcta\n"
     ]
    }
   ],
   "source": [
    "key = 'hola'\n",
    "password = input('Introduce la contraseña \\n')\n",
    "if key == password:\n",
    "    print('Contraseña correcta')\n",
    "else:\n",
    "    print('Contraseña incorrecta, intente de nuevo')"
   ]
  },
  {
   "cell_type": "markdown",
   "id": "41c8a6b4",
   "metadata": {},
   "source": [
    "## Ejercicio 2"
   ]
  },
  {
   "cell_type": "markdown",
   "id": "c365fb6d",
   "metadata": {},
   "source": [
    "Escribir un programa que pida al usuario dos números y muestre por pantalla su división. Si el divisor es cero el programa debe mostrar un error."
   ]
  },
  {
   "cell_type": "code",
   "execution_count": 15,
   "id": "6b7aec5b",
   "metadata": {},
   "outputs": [
    {
     "name": "stdout",
     "output_type": "stream",
     "text": [
      "Escriba el dividendo: \n",
      "10\n",
      "Escriba el divisor: \n",
      "5\n",
      "2.0\n"
     ]
    }
   ],
   "source": [
    "num1 = float(input('Escriba el dividendo: \\n'))\n",
    "num2 = float(input('Escriba el divisor: \\n'))\n",
    "if num2 == 0:\n",
    "    print('¡Ha ocurrido un error!')\n",
    "else:\n",
    "    print(num1/num2)\n"
   ]
  },
  {
   "cell_type": "markdown",
   "id": "71ee1b4d",
   "metadata": {},
   "source": [
    "## Ejercicio 3"
   ]
  },
  {
   "cell_type": "markdown",
   "id": "b597a64c",
   "metadata": {},
   "source": [
    "Escribir un programa que pida al usuario un número entero y muestre por pantalla si es par o impar."
   ]
  },
  {
   "cell_type": "code",
   "execution_count": 20,
   "id": "9f756d65",
   "metadata": {},
   "outputs": [
    {
     "name": "stdout",
     "output_type": "stream",
     "text": [
      "Escribe un número: \n",
      "96\n",
      "El número 96 es par\n"
     ]
    }
   ],
   "source": [
    "num = int(input('Escribe un número: \\n'))\n",
    "if num % 2 == 0:\n",
    "    print(f'El número {num} es par')\n",
    "else:\n",
    "    print(f'El número {num} es impar')"
   ]
  },
  {
   "cell_type": "markdown",
   "id": "c921ba94",
   "metadata": {},
   "source": [
    "## Ejercicio 4"
   ]
  },
  {
   "cell_type": "markdown",
   "id": "9895908f",
   "metadata": {},
   "source": [
    "Para tributar un determinado impuesto se debe ser mayor de 16 años y tener unos ingresos iguales o superiores a 1000 € mensuales. Escribir un programa que pregunte al usuario su edad y sus ingresos mensuales y muestre por pantalla si el usuario tiene que tributar o no."
   ]
  },
  {
   "cell_type": "code",
   "execution_count": 23,
   "id": "f8a24dfe",
   "metadata": {},
   "outputs": [
    {
     "name": "stdout",
     "output_type": "stream",
     "text": [
      "Enter your age: \n",
      "56\n",
      "Enter your monthly incomes: \n",
      "€5000\n",
      "Es necesario tributar\n"
     ]
    }
   ],
   "source": [
    "age = int(input('Enter your age: \\n'))\n",
    "income = int(input('Enter your monthly incomes: \\n€'))\n",
    "\n",
    "if age > 16 and income >= 1000:\n",
    "    print('Es necesario tributar')\n",
    "else:\n",
    "    print('No debes tributar')\n"
   ]
  },
  {
   "cell_type": "markdown",
   "id": "c00568a4",
   "metadata": {},
   "source": [
    "## Ejercicio 5"
   ]
  },
  {
   "cell_type": "markdown",
   "id": "afa26088",
   "metadata": {},
   "source": [
    "Los alumnos de un curso se han dividido en dos grupos A y B de acuerdo al sexo y el nombre. El grupo A esta formado por las mujeres con un nombre anterior a la M y los hombres con un nombre posterior a la N y el grupo B por el resto. Escribir un programa que pregunte al usuario su nombre y sexo, y muestre por pantalla el grupo que le corresponde."
   ]
  },
  {
   "cell_type": "code",
   "execution_count": 48,
   "id": "89702927",
   "metadata": {},
   "outputs": [
    {
     "name": "stdout",
     "output_type": "stream",
     "text": [
      "Enter your name\n",
      "marta\n",
      "Enter your gender (M or F)\n",
      "F\n",
      "Grupo A\n"
     ]
    }
   ],
   "source": [
    "name = input('Enter your name\\n')\n",
    "gender = input('Enter your gender (M or F)\\n')\n",
    "\n",
    "if gender == 'F':\n",
    "    if name.lower() < 'n':\n",
    "        print('Grupo A')\n",
    "    else:\n",
    "        print('Grupo B')\n",
    "elif gender == 'M':\n",
    "    if name.lower() > 'm':\n",
    "        print('Grupo A')\n",
    "    else:\n",
    "        print('Grupo B')\n",
    "    \n",
    "\n",
    "             "
   ]
  },
  {
   "cell_type": "markdown",
   "id": "2adbdd43",
   "metadata": {},
   "source": [
    "## Ejercicio 6"
   ]
  },
  {
   "cell_type": "markdown",
   "id": "f3b8aff1",
   "metadata": {},
   "source": [
    "Los tramos impositivos para la declaración de la renta en un determinado país son los siguientes:\n",
    "\n",
    "    Renta\t              Tipo impositivo\n",
    "Menos de 10000€\t                5%\n",
    "Entre 10000€ y 20000€\t       15%\n",
    "Entre 20000€ y 35000€\t       20%\n",
    "Entre 35000€ y 60000€\t       30%\n",
    "Más de 60000€\t               45%\n",
    "\n",
    "Escribir un programa que pregunte al usuario su renta anual y muestre por pantalla el tipo impositivo que le corresponde."
   ]
  },
  {
   "cell_type": "code",
   "execution_count": 8,
   "id": "c1e9730d",
   "metadata": {},
   "outputs": [
    {
     "name": "stdout",
     "output_type": "stream",
     "text": [
      "Write your annual income \n",
      "€50000\n",
      "Tax bracket of 30%\n",
      "The tax to pay is 15000.0 €\n"
     ]
    }
   ],
   "source": [
    "revenue = int(input('Write your annual income \\n€'))\n",
    "if revenue < 10000:\n",
    "    print('Tax bracket of 5%')\n",
    "    tax=5\n",
    "elif revenue >= 10000 and revenue < 20000:\n",
    "    print('Tax bracket of 15%')\n",
    "    tax=15\n",
    "elif revenue >= 20000 and revenue < 35000:\n",
    "    print('Tax bracket of 20%')\n",
    "    tax=20\n",
    "elif revenue >= 35000 and revenue < 60000:\n",
    "    print('Tax bracket of 30%')\n",
    "    tax=30\n",
    "elif revenue >= 60000:\n",
    "    print('Tax bracket of 45%')\n",
    "    tax=45\n",
    "\n",
    "print('The tax to pay is', (tax*revenue/100), '€')"
   ]
  },
  {
   "cell_type": "markdown",
   "id": "a4f05651",
   "metadata": {},
   "source": [
    "## Ejercicio 7"
   ]
  },
  {
   "cell_type": "markdown",
   "id": "2f159429",
   "metadata": {},
   "source": [
    "En una determinada empresa, sus empleados son evaluados al final de cada año. Los puntos que pueden obtener en la evaluación comienzan en 0.0 y pueden ir aumentando, traduciéndose en mejores beneficios. Los puntos que pueden conseguir los empleados pueden ser 0.0, 0.4, 0.6 o más, pero no valores intermedios entre las cifras mencionadas. A continuación se muestra una tabla con los niveles correspondientes a cada puntuación. La cantidad de dinero conseguida en cada nivel es de 2.400€ multiplicada por la puntuación del nivel.\n",
    "\n",
    "  Nivel\t           Puntuación\n",
    "Inaceptable\t          0.0\n",
    "Aceptable\t          0.4\n",
    "Meritorio\t       0.6 o más\n",
    "\n",
    "Escribir un programa que lea la puntuación del usuario e indique su nivel de rendimiento, así como la cantidad de dinero que recibirá el usuario."
   ]
  },
  {
   "cell_type": "code",
   "execution_count": 16,
   "id": "e0ef2c0b",
   "metadata": {},
   "outputs": [
    {
     "name": "stdout",
     "output_type": "stream",
     "text": [
      "Enter username: \n",
      "Fernando\n",
      "Enter the user's score: \n",
      "0.986524\n",
      "Fernando your performance is meritorious and your payment will be of 2367.66\n"
     ]
    }
   ],
   "source": [
    "name = input('Enter username: \\n')\n",
    "score = float(input(\"Enter the user's score: \\n\"))\n",
    "\n",
    "if score >= 0.0 and score < 0.4:\n",
    "    performance = 'unacceptable'\n",
    "elif score >= 0.4 and score < 0.6:\n",
    "    performance = 'acceptable'\n",
    "elif score >= 0.6:\n",
    "    performance = 'meritorious'\n",
    "\n",
    "print(name, 'your performance is', performance, 'and your payment will be of %.2f' % (score*2400))"
   ]
  },
  {
   "cell_type": "markdown",
   "id": "810ea644",
   "metadata": {},
   "source": [
    "# Ejercicios de bucles"
   ]
  },
  {
   "cell_type": "markdown",
   "id": "d7f48f07",
   "metadata": {},
   "source": [
    "## Ejercicio 1"
   ]
  },
  {
   "cell_type": "markdown",
   "id": "e87c2c54",
   "metadata": {},
   "source": [
    "Escribir un programa que pida al usuario una palabra y la muestre por pantalla 10 veces."
   ]
  },
  {
   "cell_type": "code",
   "execution_count": 28,
   "id": "39f464e7",
   "metadata": {},
   "outputs": [
    {
     "name": "stdout",
     "output_type": "stream",
     "text": [
      "Escribe una palabra \n",
      "hola\n",
      "hola\n",
      "hola\n",
      "hola\n",
      "hola\n",
      "hola\n",
      "hola\n",
      "hola\n",
      "hola\n",
      "hola\n"
     ]
    }
   ],
   "source": [
    "word = input('Escribe una palabra \\n')\n",
    "for i in range(1, 10):\n",
    "    print(word)"
   ]
  },
  {
   "cell_type": "markdown",
   "id": "3712b8b3",
   "metadata": {},
   "source": [
    "## Ejercicio 2 "
   ]
  },
  {
   "cell_type": "markdown",
   "id": "2dbf7a49",
   "metadata": {},
   "source": [
    "Escribir un programa que pregunte al usuario su edad y muestre por pantalla todos los años que ha cumplido (desde 1 hasta su edad)."
   ]
  },
  {
   "cell_type": "code",
   "execution_count": 33,
   "id": "e52876a8",
   "metadata": {},
   "outputs": [
    {
     "name": "stdout",
     "output_type": "stream",
     "text": [
      "Enter your age: \n",
      "5\n",
      "You have turned 0 years old\n",
      "You have turned 1 years old\n",
      "You have turned 2 years old\n",
      "You have turned 3 years old\n",
      "You have turned 4 years old\n",
      "You have turned 5 years old\n"
     ]
    }
   ],
   "source": [
    "age = int(input('Enter your age: \\n'))\n",
    "\n",
    "for i in range(age+1):\n",
    "    print(f'You have turned {i} years old')"
   ]
  },
  {
   "cell_type": "markdown",
   "id": "74e7d46e",
   "metadata": {},
   "source": [
    "## Ejercicio 3"
   ]
  },
  {
   "cell_type": "markdown",
   "id": "1ce20285",
   "metadata": {},
   "source": [
    "Escribir un programa que pida al usuario un número entero positivo y muestre por pantalla todos los números impares desde 1 hasta ese número separados por comas."
   ]
  },
  {
   "cell_type": "code",
   "execution_count": 43,
   "id": "a643384d",
   "metadata": {},
   "outputs": [
    {
     "name": "stdout",
     "output_type": "stream",
     "text": [
      "Enter a positive integer: \n",
      "9\n",
      "1, 3, 5, 7, 9, "
     ]
    }
   ],
   "source": [
    "num = int(input('Enter a positive integer: \\n'))\n",
    "\n",
    "for i in range(num+1):\n",
    "    if i % 2 == 0:\n",
    "        continue\n",
    "    else:\n",
    "        print(i, end =', ')"
   ]
  },
  {
   "cell_type": "code",
   "execution_count": 44,
   "id": "b031cf84",
   "metadata": {},
   "outputs": [
    {
     "name": "stdout",
     "output_type": "stream",
     "text": [
      "Enter a positive integer: \n",
      "7\n",
      "1, 3, 5, 7, "
     ]
    }
   ],
   "source": [
    "num = int(input('Enter a positive integer: \\n'))\n",
    "\n",
    "for i in range(1, num+1, 2):\n",
    "    print(i, end =', ')"
   ]
  },
  {
   "cell_type": "markdown",
   "id": "f7612ac1",
   "metadata": {},
   "source": [
    "## Ejercicio 4 "
   ]
  },
  {
   "cell_type": "markdown",
   "id": "08c0c0d6",
   "metadata": {},
   "source": [
    "Escribir un programa que pida al usuario un número entero positivo y muestre por pantalla la cuenta atrás desde ese número hasta cero separados por comas."
   ]
  },
  {
   "cell_type": "code",
   "execution_count": 60,
   "id": "09e6fdde",
   "metadata": {},
   "outputs": [
    {
     "name": "stdout",
     "output_type": "stream",
     "text": [
      "Enter a positive integer: \n",
      "5\n",
      "5, 4, 3, 2, 1, 0, "
     ]
    }
   ],
   "source": [
    "num = int(input('Enter a positive integer: \\n'))\n",
    "\n",
    "for i in range(num, -1, -1):\n",
    "    print(i, end =', ')"
   ]
  },
  {
   "cell_type": "markdown",
   "id": "64cdc55c",
   "metadata": {},
   "source": [
    "## Ejercicio 5 "
   ]
  },
  {
   "cell_type": "markdown",
   "id": "d9300064",
   "metadata": {},
   "source": [
    "Escribir un programa que pregunte al usuario una cantidad a invertir, el interés anual y el número de años, y muestre por pantalla el capital obtenido en la inversión cada año que dura la inversión."
   ]
  },
  {
   "cell_type": "code",
   "execution_count": 73,
   "id": "197a5a51",
   "metadata": {},
   "outputs": [
    {
     "name": "stdout",
     "output_type": "stream",
     "text": [
      "Enter the amount to invest: \n",
      "$1000\n",
      "Enter the annual percentage interest: \n",
      "10\n",
      "Enter the number of years that you're going to invest: \n",
      "5\n",
      "1 100.00\n",
      "2 10.00\n",
      "3 1.00\n",
      "4 0.10\n",
      "5 0.01\n"
     ]
    }
   ],
   "source": [
    "investment = float(input('Enter the amount to invest: \\n$'))\n",
    "percentage = float(input('Enter the annual percentage interest: \\n'))\n",
    "years = int(input(\"Enter the number of years that you're going to invest: \\n\"))\n",
    "\n",
    "for i in range(years):\n",
    "    investment *= percentage/100\n",
    "    print(i+1, '%.2f' % investment)\n",
    "    "
   ]
  },
  {
   "cell_type": "code",
   "execution_count": 7,
   "id": "cc156a7f",
   "metadata": {},
   "outputs": [
    {
     "name": "stdout",
     "output_type": "stream",
     "text": [
      "1 6\n",
      "2 18\n",
      "3 54\n",
      "4 162\n",
      "5 486\n",
      "6 1458\n"
     ]
    }
   ],
   "source": [
    "x = 5\n",
    "y = 3\n",
    "z = 2\n",
    "for i in range(x+1):\n",
    "    z *= y\n",
    "    print(i+1, z)"
   ]
  },
  {
   "cell_type": "markdown",
   "id": "81dfd4bb",
   "metadata": {},
   "source": [
    "## Ejercicio 6"
   ]
  },
  {
   "cell_type": "markdown",
   "id": "8c6c1604",
   "metadata": {},
   "source": [
    "Escribir un programa que pida al usuario un número entero y muestre por pantalla un triángulo rectángulo como el de más abajo, de altura el número introducido."
   ]
  },
  {
   "cell_type": "code",
   "execution_count": 2,
   "id": "44c62674",
   "metadata": {},
   "outputs": [
    {
     "name": "stdout",
     "output_type": "stream",
     "text": [
      "Enter the size of the triangle: \n",
      "6\n",
      "*\n",
      "**\n",
      "***\n",
      "****\n",
      "*****\n",
      "******\n"
     ]
    }
   ],
   "source": [
    "triangle_size = int(input('Enter the size of the triangle: \\n'))\n",
    "\n",
    "for i in range(triangle_size):\n",
    "    for j in range(i+1):\n",
    "        print('*', end = \"\")\n",
    "    print(\"\")"
   ]
  },
  {
   "cell_type": "markdown",
   "id": "cbd42190",
   "metadata": {},
   "source": [
    "## Ejercicio 7"
   ]
  },
  {
   "cell_type": "markdown",
   "id": "bf8b9f61",
   "metadata": {},
   "source": [
    "Escribir un programa que muestre por pantalla la tabla de multiplicar del 1 al 10."
   ]
  },
  {
   "cell_type": "code",
   "execution_count": 5,
   "id": "bbd54c0e",
   "metadata": {},
   "outputs": [
    {
     "name": "stdout",
     "output_type": "stream",
     "text": [
      "1 * 1 = 1\n",
      "1 * 2 = 2\n",
      "1 * 3 = 3\n",
      "1 * 4 = 4\n",
      "1 * 5 = 5\n",
      "1 * 6 = 6\n",
      "1 * 7 = 7\n",
      "1 * 8 = 8\n",
      "1 * 9 = 9\n",
      "1 * 10 = 10\n",
      "\n",
      "2 * 1 = 2\n",
      "2 * 2 = 4\n",
      "2 * 3 = 6\n",
      "2 * 4 = 8\n",
      "2 * 5 = 10\n",
      "2 * 6 = 12\n",
      "2 * 7 = 14\n",
      "2 * 8 = 16\n",
      "2 * 9 = 18\n",
      "2 * 10 = 20\n",
      "\n",
      "3 * 1 = 3\n",
      "3 * 2 = 6\n",
      "3 * 3 = 9\n",
      "3 * 4 = 12\n",
      "3 * 5 = 15\n",
      "3 * 6 = 18\n",
      "3 * 7 = 21\n",
      "3 * 8 = 24\n",
      "3 * 9 = 27\n",
      "3 * 10 = 30\n",
      "\n",
      "4 * 1 = 4\n",
      "4 * 2 = 8\n",
      "4 * 3 = 12\n",
      "4 * 4 = 16\n",
      "4 * 5 = 20\n",
      "4 * 6 = 24\n",
      "4 * 7 = 28\n",
      "4 * 8 = 32\n",
      "4 * 9 = 36\n",
      "4 * 10 = 40\n",
      "\n",
      "5 * 1 = 5\n",
      "5 * 2 = 10\n",
      "5 * 3 = 15\n",
      "5 * 4 = 20\n",
      "5 * 5 = 25\n",
      "5 * 6 = 30\n",
      "5 * 7 = 35\n",
      "5 * 8 = 40\n",
      "5 * 9 = 45\n",
      "5 * 10 = 50\n",
      "\n",
      "6 * 1 = 6\n",
      "6 * 2 = 12\n",
      "6 * 3 = 18\n",
      "6 * 4 = 24\n",
      "6 * 5 = 30\n",
      "6 * 6 = 36\n",
      "6 * 7 = 42\n",
      "6 * 8 = 48\n",
      "6 * 9 = 54\n",
      "6 * 10 = 60\n",
      "\n",
      "7 * 1 = 7\n",
      "7 * 2 = 14\n",
      "7 * 3 = 21\n",
      "7 * 4 = 28\n",
      "7 * 5 = 35\n",
      "7 * 6 = 42\n",
      "7 * 7 = 49\n",
      "7 * 8 = 56\n",
      "7 * 9 = 63\n",
      "7 * 10 = 70\n",
      "\n",
      "8 * 1 = 8\n",
      "8 * 2 = 16\n",
      "8 * 3 = 24\n",
      "8 * 4 = 32\n",
      "8 * 5 = 40\n",
      "8 * 6 = 48\n",
      "8 * 7 = 56\n",
      "8 * 8 = 64\n",
      "8 * 9 = 72\n",
      "8 * 10 = 80\n",
      "\n",
      "9 * 1 = 9\n",
      "9 * 2 = 18\n",
      "9 * 3 = 27\n",
      "9 * 4 = 36\n",
      "9 * 5 = 45\n",
      "9 * 6 = 54\n",
      "9 * 7 = 63\n",
      "9 * 8 = 72\n",
      "9 * 9 = 81\n",
      "9 * 10 = 90\n",
      "\n",
      "10 * 1 = 10\n",
      "10 * 2 = 20\n",
      "10 * 3 = 30\n",
      "10 * 4 = 40\n",
      "10 * 5 = 50\n",
      "10 * 6 = 60\n",
      "10 * 7 = 70\n",
      "10 * 8 = 80\n",
      "10 * 9 = 90\n",
      "10 * 10 = 100\n",
      "\n"
     ]
    }
   ],
   "source": [
    "for i in range(1,11):\n",
    "    for j in range(1,11):\n",
    "        print(i, '*', j, '=', i*j)\n",
    "    print('')"
   ]
  },
  {
   "cell_type": "markdown",
   "id": "a49bcd36",
   "metadata": {},
   "source": [
    "## Ejercicio 8"
   ]
  },
  {
   "cell_type": "markdown",
   "id": "c66e8e0a",
   "metadata": {},
   "source": [
    "Escribir un programa que pida al usuario un número entero y muestre por pantalla un triángulo rectángulo como el de más abajo.\n",
    "\n",
    "1\n",
    "3 1\n",
    "5 3 1\n",
    "7 5 3 1\n",
    "9 7 5 3 1"
   ]
  },
  {
   "cell_type": "code",
   "execution_count": 32,
   "id": "eaabe166",
   "metadata": {},
   "outputs": [
    {
     "name": "stdout",
     "output_type": "stream",
     "text": [
      "Enter the size of the triangle: 9\n",
      "1 \n",
      "3 1 \n",
      "5 3 1 \n",
      "7 5 3 1 \n",
      "9 7 5 3 1 \n"
     ]
    }
   ],
   "source": [
    "size_triangle = int(input('Enter the size of the triangle: '))\n",
    "\n",
    "for i in range(1, size_triangle+1, 2):\n",
    "    for j in range(i, 0, -2): \n",
    "        print(j, end = ' ')\n",
    "    print('')"
   ]
  },
  {
   "cell_type": "markdown",
   "id": "5cbd787a",
   "metadata": {},
   "source": [
    "## Ejercicio (Series Fibonacci)"
   ]
  },
  {
   "cell_type": "code",
   "execution_count": 1,
   "id": "a1800609",
   "metadata": {},
   "outputs": [
    {
     "name": "stdout",
     "output_type": "stream",
     "text": [
      "Escribe el número: 5\n"
     ]
    }
   ],
   "source": [
    "num = int(input('Escribe el número: '))\n",
    "\n",
    "\n",
    "    \n",
    "\n",
    "    "
   ]
  },
  {
   "cell_type": "markdown",
   "id": "c98cfb65",
   "metadata": {},
   "source": [
    "# Ejercicios ciclo while"
   ]
  },
  {
   "cell_type": "markdown",
   "id": "254c0ab3",
   "metadata": {},
   "source": [
    "## Ejercicio 1"
   ]
  },
  {
   "cell_type": "markdown",
   "id": "74f91853",
   "metadata": {},
   "source": [
    "Escriba un programa que pregunte una y otra vez si desea continuar con el programa, siempre que se conteste exactamente sí (en minúsculas y con tilde)."
   ]
  },
  {
   "cell_type": "code",
   "execution_count": 7,
   "id": "ebef9285",
   "metadata": {},
   "outputs": [
    {
     "name": "stdout",
     "output_type": "stream",
     "text": [
      "Diga sí para continuar \n",
      "sí\n",
      "Hasta luego\n"
     ]
    }
   ],
   "source": [
    "confirm = input('Diga sí para continuar \\n')\n",
    "\n",
    "while(confirm == 'sí'):\n",
    "    print('¿Desea continuar el programa?')\n",
    "\n",
    "print('Hasta luego')\n",
    "    "
   ]
  },
  {
   "cell_type": "markdown",
   "id": "56c551c6",
   "metadata": {},
   "source": [
    "# Udemy course (Python master programming and development)"
   ]
  },
  {
   "cell_type": "markdown",
   "id": "2691f9b6",
   "metadata": {},
   "source": [
    "Arithmetic operators\n",
    "()\n",
    "**\n",
    "* / \n",
    "+ - "
   ]
  },
  {
   "cell_type": "markdown",
   "id": "8c6e1b69",
   "metadata": {},
   "source": [
    "### Casting"
   ]
  },
  {
   "cell_type": "code",
   "execution_count": 1,
   "id": "1304cbd0",
   "metadata": {},
   "outputs": [
    {
     "data": {
      "text/plain": [
       "int"
      ]
     },
     "execution_count": 1,
     "metadata": {},
     "output_type": "execute_result"
    }
   ],
   "source": [
    "x = 5\n",
    "type(x)"
   ]
  },
  {
   "cell_type": "code",
   "execution_count": 2,
   "id": "dae184dd",
   "metadata": {},
   "outputs": [
    {
     "name": "stdout",
     "output_type": "stream",
     "text": [
      "5.0\n"
     ]
    }
   ],
   "source": [
    "x = float(x)\n",
    "print(x)"
   ]
  },
  {
   "cell_type": "code",
   "execution_count": 3,
   "id": "a131c95e",
   "metadata": {},
   "outputs": [
    {
     "data": {
      "text/plain": [
       "float"
      ]
     },
     "execution_count": 3,
     "metadata": {},
     "output_type": "execute_result"
    }
   ],
   "source": [
    "type(x)"
   ]
  },
  {
   "cell_type": "markdown",
   "id": "8a1a4dd7",
   "metadata": {},
   "source": [
    "### Methods"
   ]
  },
  {
   "cell_type": "code",
   "execution_count": 4,
   "id": "3e5c481e",
   "metadata": {},
   "outputs": [
    {
     "data": {
      "text/plain": [
       "'WATER'"
      ]
     },
     "execution_count": 4,
     "metadata": {},
     "output_type": "execute_result"
    }
   ],
   "source": [
    "x = 'water'\n",
    "x.upper()"
   ]
  },
  {
   "cell_type": "code",
   "execution_count": 5,
   "id": "71655eb1",
   "metadata": {},
   "outputs": [
    {
     "data": {
      "text/plain": [
       "['__add__',\n",
       " '__class__',\n",
       " '__contains__',\n",
       " '__delattr__',\n",
       " '__dir__',\n",
       " '__doc__',\n",
       " '__eq__',\n",
       " '__format__',\n",
       " '__ge__',\n",
       " '__getattribute__',\n",
       " '__getitem__',\n",
       " '__getnewargs__',\n",
       " '__gt__',\n",
       " '__hash__',\n",
       " '__init__',\n",
       " '__init_subclass__',\n",
       " '__iter__',\n",
       " '__le__',\n",
       " '__len__',\n",
       " '__lt__',\n",
       " '__mod__',\n",
       " '__mul__',\n",
       " '__ne__',\n",
       " '__new__',\n",
       " '__reduce__',\n",
       " '__reduce_ex__',\n",
       " '__repr__',\n",
       " '__rmod__',\n",
       " '__rmul__',\n",
       " '__setattr__',\n",
       " '__sizeof__',\n",
       " '__str__',\n",
       " '__subclasshook__',\n",
       " 'capitalize',\n",
       " 'casefold',\n",
       " 'center',\n",
       " 'count',\n",
       " 'encode',\n",
       " 'endswith',\n",
       " 'expandtabs',\n",
       " 'find',\n",
       " 'format',\n",
       " 'format_map',\n",
       " 'index',\n",
       " 'isalnum',\n",
       " 'isalpha',\n",
       " 'isascii',\n",
       " 'isdecimal',\n",
       " 'isdigit',\n",
       " 'isidentifier',\n",
       " 'islower',\n",
       " 'isnumeric',\n",
       " 'isprintable',\n",
       " 'isspace',\n",
       " 'istitle',\n",
       " 'isupper',\n",
       " 'join',\n",
       " 'ljust',\n",
       " 'lower',\n",
       " 'lstrip',\n",
       " 'maketrans',\n",
       " 'partition',\n",
       " 'removeprefix',\n",
       " 'removesuffix',\n",
       " 'replace',\n",
       " 'rfind',\n",
       " 'rindex',\n",
       " 'rjust',\n",
       " 'rpartition',\n",
       " 'rsplit',\n",
       " 'rstrip',\n",
       " 'split',\n",
       " 'splitlines',\n",
       " 'startswith',\n",
       " 'strip',\n",
       " 'swapcase',\n",
       " 'title',\n",
       " 'translate',\n",
       " 'upper',\n",
       " 'zfill']"
      ]
     },
     "execution_count": 5,
     "metadata": {},
     "output_type": "execute_result"
    }
   ],
   "source": [
    "dir('string')"
   ]
  },
  {
   "cell_type": "code",
   "execution_count": 6,
   "id": "34b9462a",
   "metadata": {},
   "outputs": [
    {
     "data": {
      "text/plain": [
       "'Water'"
      ]
     },
     "execution_count": 6,
     "metadata": {},
     "output_type": "execute_result"
    }
   ],
   "source": [
    "x.title()"
   ]
  },
  {
   "cell_type": "code",
   "execution_count": 7,
   "id": "0bb73a1c",
   "metadata": {},
   "outputs": [
    {
     "data": {
      "text/plain": [
       "'water'"
      ]
     },
     "execution_count": 7,
     "metadata": {},
     "output_type": "execute_result"
    }
   ],
   "source": [
    "x = 'WATER'\n",
    "x.lower()"
   ]
  },
  {
   "cell_type": "markdown",
   "id": "0d0653da",
   "metadata": {},
   "source": [
    "### Indexing and slicing"
   ]
  },
  {
   "cell_type": "code",
   "execution_count": 8,
   "id": "11dfb8a5",
   "metadata": {},
   "outputs": [
    {
     "data": {
      "text/plain": [
       "'a'"
      ]
     },
     "execution_count": 8,
     "metadata": {},
     "output_type": "execute_result"
    }
   ],
   "source": [
    "x = 'water'\n",
    "x[1]"
   ]
  },
  {
   "cell_type": "code",
   "execution_count": 9,
   "id": "9b565e45",
   "metadata": {},
   "outputs": [
    {
     "data": {
      "text/plain": [
       "'r'"
      ]
     },
     "execution_count": 9,
     "metadata": {},
     "output_type": "execute_result"
    }
   ],
   "source": [
    "x[-1]"
   ]
  },
  {
   "cell_type": "code",
   "execution_count": 12,
   "id": "4018cf76",
   "metadata": {},
   "outputs": [
    {
     "data": {
      "text/plain": [
       "'Hila cimi estas'"
      ]
     },
     "execution_count": 12,
     "metadata": {},
     "output_type": "execute_result"
    }
   ],
   "source": [
    "x = 'Hola como estas'\n",
    "x.replace('o', 'i')"
   ]
  },
  {
   "cell_type": "code",
   "execution_count": 13,
   "id": "93908546",
   "metadata": {},
   "outputs": [
    {
     "data": {
      "text/plain": [
       "'ola '"
      ]
     },
     "execution_count": 13,
     "metadata": {},
     "output_type": "execute_result"
    }
   ],
   "source": [
    "x = 'Hola como estas'\n",
    "x[1:5]"
   ]
  },
  {
   "cell_type": "code",
   "execution_count": 14,
   "id": "ef38e9a7",
   "metadata": {},
   "outputs": [
    {
     "data": {
      "text/plain": [
       "'om'"
      ]
     },
     "execution_count": 14,
     "metadata": {},
     "output_type": "execute_result"
    }
   ],
   "source": [
    "x[6:8]"
   ]
  },
  {
   "cell_type": "code",
   "execution_count": 15,
   "id": "47da2c06",
   "metadata": {},
   "outputs": [
    {
     "data": {
      "text/plain": [
       "'mo est'"
      ]
     },
     "execution_count": 15,
     "metadata": {},
     "output_type": "execute_result"
    }
   ],
   "source": [
    "x[-8:-2]"
   ]
  },
  {
   "cell_type": "code",
   "execution_count": 16,
   "id": "d1774e54",
   "metadata": {},
   "outputs": [
    {
     "data": {
      "text/plain": [
       "'mo esta'"
      ]
     },
     "execution_count": 16,
     "metadata": {},
     "output_type": "execute_result"
    }
   ],
   "source": [
    "x[-8:-1]"
   ]
  },
  {
   "cell_type": "code",
   "execution_count": 17,
   "id": "28d55869",
   "metadata": {},
   "outputs": [
    {
     "data": {
      "text/plain": [
       "''"
      ]
     },
     "execution_count": 17,
     "metadata": {},
     "output_type": "execute_result"
    }
   ],
   "source": [
    "x[-8:0]"
   ]
  },
  {
   "cell_type": "code",
   "execution_count": 18,
   "id": "71596731",
   "metadata": {},
   "outputs": [
    {
     "data": {
      "text/plain": [
       "'s'"
      ]
     },
     "execution_count": 18,
     "metadata": {},
     "output_type": "execute_result"
    }
   ],
   "source": [
    "x[-1]"
   ]
  },
  {
   "cell_type": "code",
   "execution_count": 19,
   "id": "a3a60c21",
   "metadata": {},
   "outputs": [
    {
     "data": {
      "text/plain": [
       "'mo estas'"
      ]
     },
     "execution_count": 19,
     "metadata": {},
     "output_type": "execute_result"
    }
   ],
   "source": [
    "x[-8:]"
   ]
  },
  {
   "cell_type": "markdown",
   "id": "c6a5e9b5",
   "metadata": {},
   "source": [
    "### String"
   ]
  },
  {
   "cell_type": "code",
   "execution_count": 3,
   "id": "362965f5",
   "metadata": {},
   "outputs": [
    {
     "name": "stdout",
     "output_type": "stream",
     "text": [
      "My name is dev and my hobbie is playing sports and my age is 33\n"
     ]
    }
   ],
   "source": [
    "x = [\"dev\", \"sports\", 33]\n",
    "z = f\"My name is {x[0]} and my hobbie is playing {x[1]} and my age is {x[2]}\"\n",
    "print(z)"
   ]
  },
  {
   "cell_type": "markdown",
   "id": "b4b26cdb",
   "metadata": {},
   "source": [
    "### List"
   ]
  },
  {
   "cell_type": "code",
   "execution_count": 4,
   "id": "edd5c168",
   "metadata": {},
   "outputs": [
    {
     "data": {
      "text/plain": [
       "['__add__',\n",
       " '__class__',\n",
       " '__class_getitem__',\n",
       " '__contains__',\n",
       " '__delattr__',\n",
       " '__delitem__',\n",
       " '__dir__',\n",
       " '__doc__',\n",
       " '__eq__',\n",
       " '__format__',\n",
       " '__ge__',\n",
       " '__getattribute__',\n",
       " '__getitem__',\n",
       " '__gt__',\n",
       " '__hash__',\n",
       " '__iadd__',\n",
       " '__imul__',\n",
       " '__init__',\n",
       " '__init_subclass__',\n",
       " '__iter__',\n",
       " '__le__',\n",
       " '__len__',\n",
       " '__lt__',\n",
       " '__mul__',\n",
       " '__ne__',\n",
       " '__new__',\n",
       " '__reduce__',\n",
       " '__reduce_ex__',\n",
       " '__repr__',\n",
       " '__reversed__',\n",
       " '__rmul__',\n",
       " '__setattr__',\n",
       " '__setitem__',\n",
       " '__sizeof__',\n",
       " '__str__',\n",
       " '__subclasshook__',\n",
       " 'append',\n",
       " 'clear',\n",
       " 'copy',\n",
       " 'count',\n",
       " 'extend',\n",
       " 'index',\n",
       " 'insert',\n",
       " 'pop',\n",
       " 'remove',\n",
       " 'reverse',\n",
       " 'sort']"
      ]
     },
     "execution_count": 4,
     "metadata": {},
     "output_type": "execute_result"
    }
   ],
   "source": [
    "x = ['dev', 'blue', 'green', 'yellow', 'black', 3, 4.3]\n",
    "dir(list)"
   ]
  },
  {
   "cell_type": "code",
   "execution_count": 5,
   "id": "05954096",
   "metadata": {},
   "outputs": [
    {
     "data": {
      "text/plain": [
       "'green'"
      ]
     },
     "execution_count": 5,
     "metadata": {},
     "output_type": "execute_result"
    }
   ],
   "source": [
    "x[2]"
   ]
  },
  {
   "cell_type": "code",
   "execution_count": 6,
   "id": "b8efba79",
   "metadata": {},
   "outputs": [
    {
     "data": {
      "text/plain": [
       "7"
      ]
     },
     "execution_count": 6,
     "metadata": {},
     "output_type": "execute_result"
    }
   ],
   "source": [
    "len(x)"
   ]
  },
  {
   "cell_type": "code",
   "execution_count": 7,
   "id": "a1950a37",
   "metadata": {},
   "outputs": [
    {
     "data": {
      "text/plain": [
       "4.3"
      ]
     },
     "execution_count": 7,
     "metadata": {},
     "output_type": "execute_result"
    }
   ],
   "source": [
    "x.pop()"
   ]
  },
  {
   "cell_type": "code",
   "execution_count": 8,
   "id": "c5488d1e",
   "metadata": {},
   "outputs": [
    {
     "data": {
      "text/plain": [
       "['dev', 'blue', 'green', 'yellow', 'black', 3]"
      ]
     },
     "execution_count": 8,
     "metadata": {},
     "output_type": "execute_result"
    }
   ],
   "source": [
    "x"
   ]
  },
  {
   "cell_type": "code",
   "execution_count": 9,
   "id": "6daeab6e",
   "metadata": {},
   "outputs": [],
   "source": [
    "x.append(9)"
   ]
  },
  {
   "cell_type": "code",
   "execution_count": 10,
   "id": "dc0aafb1",
   "metadata": {},
   "outputs": [
    {
     "data": {
      "text/plain": [
       "['dev', 'blue', 'green', 'yellow', 'black', 3, 9]"
      ]
     },
     "execution_count": 10,
     "metadata": {},
     "output_type": "execute_result"
    }
   ],
   "source": [
    "x"
   ]
  },
  {
   "cell_type": "code",
   "execution_count": 11,
   "id": "4eb70b4e",
   "metadata": {},
   "outputs": [],
   "source": [
    "x.remove('yellow')"
   ]
  },
  {
   "cell_type": "code",
   "execution_count": 12,
   "id": "8dd7c4a1",
   "metadata": {},
   "outputs": [
    {
     "data": {
      "text/plain": [
       "['dev', 'blue', 'green', 'black', 3, 9]"
      ]
     },
     "execution_count": 12,
     "metadata": {},
     "output_type": "execute_result"
    }
   ],
   "source": [
    "x"
   ]
  },
  {
   "cell_type": "code",
   "execution_count": 13,
   "id": "168feb63",
   "metadata": {},
   "outputs": [],
   "source": [
    "del x #Delete list"
   ]
  },
  {
   "cell_type": "markdown",
   "id": "2849e5da",
   "metadata": {},
   "source": [
    "### Tuples"
   ]
  },
  {
   "cell_type": "code",
   "execution_count": 15,
   "id": "18217ab3",
   "metadata": {},
   "outputs": [
    {
     "data": {
      "text/plain": [
       "'green'"
      ]
     },
     "execution_count": 15,
     "metadata": {},
     "output_type": "execute_result"
    }
   ],
   "source": [
    "x = ('red', 'blue', 'green', 'yellow', 'black', 12, 4.3)\n",
    "x[2]\n",
    "#Tuples cannot be modified x.append(2) is not possible"
   ]
  },
  {
   "cell_type": "code",
   "execution_count": 16,
   "id": "eea53464",
   "metadata": {},
   "outputs": [
    {
     "data": {
      "text/plain": [
       "['__add__',\n",
       " '__class__',\n",
       " '__class_getitem__',\n",
       " '__contains__',\n",
       " '__delattr__',\n",
       " '__dir__',\n",
       " '__doc__',\n",
       " '__eq__',\n",
       " '__format__',\n",
       " '__ge__',\n",
       " '__getattribute__',\n",
       " '__getitem__',\n",
       " '__getnewargs__',\n",
       " '__gt__',\n",
       " '__hash__',\n",
       " '__init__',\n",
       " '__init_subclass__',\n",
       " '__iter__',\n",
       " '__le__',\n",
       " '__len__',\n",
       " '__lt__',\n",
       " '__mul__',\n",
       " '__ne__',\n",
       " '__new__',\n",
       " '__reduce__',\n",
       " '__reduce_ex__',\n",
       " '__repr__',\n",
       " '__rmul__',\n",
       " '__setattr__',\n",
       " '__sizeof__',\n",
       " '__str__',\n",
       " '__subclasshook__',\n",
       " 'count',\n",
       " 'index']"
      ]
     },
     "execution_count": 16,
     "metadata": {},
     "output_type": "execute_result"
    }
   ],
   "source": [
    "dir(tuple)"
   ]
  },
  {
   "cell_type": "code",
   "execution_count": 17,
   "id": "08ff6ff1",
   "metadata": {},
   "outputs": [
    {
     "data": {
      "text/plain": [
       "7"
      ]
     },
     "execution_count": 17,
     "metadata": {},
     "output_type": "execute_result"
    }
   ],
   "source": [
    "len(x)"
   ]
  },
  {
   "cell_type": "markdown",
   "id": "4296ef78",
   "metadata": {},
   "source": [
    "### Methos and functions"
   ]
  },
  {
   "cell_type": "code",
   "execution_count": 1,
   "id": "13e80e04",
   "metadata": {},
   "outputs": [
    {
     "data": {
      "text/plain": [
       "'WATER'"
      ]
     },
     "execution_count": 1,
     "metadata": {},
     "output_type": "execute_result"
    }
   ],
   "source": [
    "x='water'\n",
    "x.upper()"
   ]
  },
  {
   "cell_type": "code",
   "execution_count": 2,
   "id": "e9bb9a0d",
   "metadata": {},
   "outputs": [
    {
     "data": {
      "text/plain": [
       "['__add__',\n",
       " '__class__',\n",
       " '__contains__',\n",
       " '__delattr__',\n",
       " '__dir__',\n",
       " '__doc__',\n",
       " '__eq__',\n",
       " '__format__',\n",
       " '__ge__',\n",
       " '__getattribute__',\n",
       " '__getitem__',\n",
       " '__getnewargs__',\n",
       " '__gt__',\n",
       " '__hash__',\n",
       " '__init__',\n",
       " '__init_subclass__',\n",
       " '__iter__',\n",
       " '__le__',\n",
       " '__len__',\n",
       " '__lt__',\n",
       " '__mod__',\n",
       " '__mul__',\n",
       " '__ne__',\n",
       " '__new__',\n",
       " '__reduce__',\n",
       " '__reduce_ex__',\n",
       " '__repr__',\n",
       " '__rmod__',\n",
       " '__rmul__',\n",
       " '__setattr__',\n",
       " '__sizeof__',\n",
       " '__str__',\n",
       " '__subclasshook__',\n",
       " 'capitalize',\n",
       " 'casefold',\n",
       " 'center',\n",
       " 'count',\n",
       " 'encode',\n",
       " 'endswith',\n",
       " 'expandtabs',\n",
       " 'find',\n",
       " 'format',\n",
       " 'format_map',\n",
       " 'index',\n",
       " 'isalnum',\n",
       " 'isalpha',\n",
       " 'isascii',\n",
       " 'isdecimal',\n",
       " 'isdigit',\n",
       " 'isidentifier',\n",
       " 'islower',\n",
       " 'isnumeric',\n",
       " 'isprintable',\n",
       " 'isspace',\n",
       " 'istitle',\n",
       " 'isupper',\n",
       " 'join',\n",
       " 'ljust',\n",
       " 'lower',\n",
       " 'lstrip',\n",
       " 'maketrans',\n",
       " 'partition',\n",
       " 'removeprefix',\n",
       " 'removesuffix',\n",
       " 'replace',\n",
       " 'rfind',\n",
       " 'rindex',\n",
       " 'rjust',\n",
       " 'rpartition',\n",
       " 'rsplit',\n",
       " 'rstrip',\n",
       " 'split',\n",
       " 'splitlines',\n",
       " 'startswith',\n",
       " 'strip',\n",
       " 'swapcase',\n",
       " 'title',\n",
       " 'translate',\n",
       " 'upper',\n",
       " 'zfill']"
      ]
     },
     "execution_count": 2,
     "metadata": {},
     "output_type": "execute_result"
    }
   ],
   "source": [
    "dir('string')"
   ]
  },
  {
   "cell_type": "code",
   "execution_count": 4,
   "id": "482dcb37",
   "metadata": {},
   "outputs": [
    {
     "data": {
      "text/plain": [
       "'Water'"
      ]
     },
     "execution_count": 4,
     "metadata": {},
     "output_type": "execute_result"
    }
   ],
   "source": [
    "x.title()"
   ]
  },
  {
   "cell_type": "markdown",
   "id": "7c74c3e0",
   "metadata": {},
   "source": [
    "### List"
   ]
  },
  {
   "cell_type": "code",
   "execution_count": 6,
   "id": "c5b3de68",
   "metadata": {},
   "outputs": [
    {
     "data": {
      "text/plain": [
       "['__add__',\n",
       " '__class__',\n",
       " '__class_getitem__',\n",
       " '__contains__',\n",
       " '__delattr__',\n",
       " '__delitem__',\n",
       " '__dir__',\n",
       " '__doc__',\n",
       " '__eq__',\n",
       " '__format__',\n",
       " '__ge__',\n",
       " '__getattribute__',\n",
       " '__getitem__',\n",
       " '__gt__',\n",
       " '__hash__',\n",
       " '__iadd__',\n",
       " '__imul__',\n",
       " '__init__',\n",
       " '__init_subclass__',\n",
       " '__iter__',\n",
       " '__le__',\n",
       " '__len__',\n",
       " '__lt__',\n",
       " '__mul__',\n",
       " '__ne__',\n",
       " '__new__',\n",
       " '__reduce__',\n",
       " '__reduce_ex__',\n",
       " '__repr__',\n",
       " '__reversed__',\n",
       " '__rmul__',\n",
       " '__setattr__',\n",
       " '__setitem__',\n",
       " '__sizeof__',\n",
       " '__str__',\n",
       " '__subclasshook__',\n",
       " 'append',\n",
       " 'clear',\n",
       " 'copy',\n",
       " 'count',\n",
       " 'extend',\n",
       " 'index',\n",
       " 'insert',\n",
       " 'pop',\n",
       " 'remove',\n",
       " 'reverse',\n",
       " 'sort']"
      ]
     },
     "execution_count": 6,
     "metadata": {},
     "output_type": "execute_result"
    }
   ],
   "source": [
    "x = ['red', 'blue', 'green', 'yellow', 'black', 3, 4.3]\n",
    "dir(list)\n"
   ]
  },
  {
   "cell_type": "code",
   "execution_count": 7,
   "id": "4ab21587",
   "metadata": {},
   "outputs": [
    {
     "data": {
      "text/plain": [
       "'green'"
      ]
     },
     "execution_count": 7,
     "metadata": {},
     "output_type": "execute_result"
    }
   ],
   "source": [
    "x[2]"
   ]
  },
  {
   "cell_type": "code",
   "execution_count": 8,
   "id": "ecd64321",
   "metadata": {},
   "outputs": [
    {
     "data": {
      "text/plain": [
       "4.3"
      ]
     },
     "execution_count": 8,
     "metadata": {},
     "output_type": "execute_result"
    }
   ],
   "source": [
    "x[-1]"
   ]
  },
  {
   "cell_type": "code",
   "execution_count": 9,
   "id": "e35b04ac",
   "metadata": {},
   "outputs": [
    {
     "data": {
      "text/plain": [
       "7"
      ]
     },
     "execution_count": 9,
     "metadata": {},
     "output_type": "execute_result"
    }
   ],
   "source": [
    "len(x)"
   ]
  },
  {
   "cell_type": "markdown",
   "id": "36ca7db7",
   "metadata": {},
   "source": [
    "# Numpy\n"
   ]
  },
  {
   "cell_type": "code",
   "execution_count": 10,
   "id": "26861666",
   "metadata": {},
   "outputs": [],
   "source": [
    "import numpy as np"
   ]
  },
  {
   "cell_type": "markdown",
   "id": "da0d0a51",
   "metadata": {},
   "source": [
    "#### 2D array"
   ]
  },
  {
   "cell_type": "code",
   "execution_count": 12,
   "id": "0e3ef8e6",
   "metadata": {},
   "outputs": [],
   "source": [
    "x=[[1,2,3],[4,5,6],[7,8,9]]"
   ]
  },
  {
   "cell_type": "code",
   "execution_count": 13,
   "id": "b0259012",
   "metadata": {},
   "outputs": [
    {
     "data": {
      "text/plain": [
       "[[1, 2, 3], [4, 5, 6], [7, 8, 9]]"
      ]
     },
     "execution_count": 13,
     "metadata": {},
     "output_type": "execute_result"
    }
   ],
   "source": [
    "x"
   ]
  },
  {
   "cell_type": "code",
   "execution_count": 14,
   "id": "464bc107",
   "metadata": {},
   "outputs": [],
   "source": [
    "y = np.array(x)"
   ]
  },
  {
   "cell_type": "code",
   "execution_count": 15,
   "id": "8c0f9345",
   "metadata": {},
   "outputs": [
    {
     "data": {
      "text/plain": [
       "array([[1, 2, 3],\n",
       "       [4, 5, 6],\n",
       "       [7, 8, 9]])"
      ]
     },
     "execution_count": 15,
     "metadata": {},
     "output_type": "execute_result"
    }
   ],
   "source": [
    "y"
   ]
  },
  {
   "cell_type": "markdown",
   "id": "4ce61527",
   "metadata": {},
   "source": [
    "#### 3D array"
   ]
  },
  {
   "cell_type": "code",
   "execution_count": 16,
   "id": "574736f1",
   "metadata": {},
   "outputs": [],
   "source": [
    "x=[[[1,2,3],[1,2,3],[1,2,3]],[[1,2,3],[1,2,3],[1,2,3]],[[1,2,3],[1,2,3],[1,2,3]]]"
   ]
  },
  {
   "cell_type": "code",
   "execution_count": 17,
   "id": "59751845",
   "metadata": {},
   "outputs": [
    {
     "data": {
      "text/plain": [
       "[[[1, 2, 3], [1, 2, 3], [1, 2, 3]],\n",
       " [[1, 2, 3], [1, 2, 3], [1, 2, 3]],\n",
       " [[1, 2, 3], [1, 2, 3], [1, 2, 3]]]"
      ]
     },
     "execution_count": 17,
     "metadata": {},
     "output_type": "execute_result"
    }
   ],
   "source": [
    "x"
   ]
  },
  {
   "cell_type": "code",
   "execution_count": 18,
   "id": "a038ec07",
   "metadata": {},
   "outputs": [],
   "source": [
    "y = np.array(x)"
   ]
  },
  {
   "cell_type": "code",
   "execution_count": 19,
   "id": "a81a6dee",
   "metadata": {},
   "outputs": [
    {
     "data": {
      "text/plain": [
       "array([[[1, 2, 3],\n",
       "        [1, 2, 3],\n",
       "        [1, 2, 3]],\n",
       "\n",
       "       [[1, 2, 3],\n",
       "        [1, 2, 3],\n",
       "        [1, 2, 3]],\n",
       "\n",
       "       [[1, 2, 3],\n",
       "        [1, 2, 3],\n",
       "        [1, 2, 3]]])"
      ]
     },
     "execution_count": 19,
     "metadata": {},
     "output_type": "execute_result"
    }
   ],
   "source": [
    "y"
   ]
  },
  {
   "cell_type": "markdown",
   "id": "e398664d",
   "metadata": {},
   "source": [
    "### Methods for numpy"
   ]
  },
  {
   "cell_type": "code",
   "execution_count": 20,
   "id": "eb5968f9",
   "metadata": {},
   "outputs": [],
   "source": [
    "import numpy as np"
   ]
  },
  {
   "cell_type": "code",
   "execution_count": 21,
   "id": "9ea5ab2d",
   "metadata": {},
   "outputs": [],
   "source": [
    "x = [1,2,3,4,5]"
   ]
  },
  {
   "cell_type": "code",
   "execution_count": 22,
   "id": "68542e79",
   "metadata": {},
   "outputs": [],
   "source": [
    "y = [[1,2,3],[4,5,6],[7,8,9]]"
   ]
  },
  {
   "cell_type": "code",
   "execution_count": 23,
   "id": "3591342e",
   "metadata": {},
   "outputs": [
    {
     "data": {
      "text/plain": [
       "array([1, 2, 3, 4, 5])"
      ]
     },
     "execution_count": 23,
     "metadata": {},
     "output_type": "execute_result"
    }
   ],
   "source": [
    "np.array(x)"
   ]
  },
  {
   "cell_type": "code",
   "execution_count": 24,
   "id": "576df6cc",
   "metadata": {},
   "outputs": [
    {
     "data": {
      "text/plain": [
       "[1, 2, 3, 4, 5]"
      ]
     },
     "execution_count": 24,
     "metadata": {},
     "output_type": "execute_result"
    }
   ],
   "source": [
    "x"
   ]
  },
  {
   "cell_type": "code",
   "execution_count": 25,
   "id": "55060d5a",
   "metadata": {},
   "outputs": [
    {
     "data": {
      "text/plain": [
       "array([[1, 2, 3],\n",
       "       [4, 5, 6],\n",
       "       [7, 8, 9]])"
      ]
     },
     "execution_count": 25,
     "metadata": {},
     "output_type": "execute_result"
    }
   ],
   "source": [
    "np.array(y)"
   ]
  },
  {
   "cell_type": "markdown",
   "id": "9518e31f",
   "metadata": {},
   "source": [
    "i for colums \n",
    "j for rows\n",
    "i = j -> square matrix"
   ]
  },
  {
   "cell_type": "code",
   "execution_count": 29,
   "id": "6297c887",
   "metadata": {},
   "outputs": [
    {
     "data": {
      "text/plain": [
       "array([0., 0., 0.])"
      ]
     },
     "execution_count": 29,
     "metadata": {},
     "output_type": "execute_result"
    }
   ],
   "source": [
    "np.zeros(3)"
   ]
  },
  {
   "cell_type": "code",
   "execution_count": 30,
   "id": "54fed6a7",
   "metadata": {},
   "outputs": [
    {
     "data": {
      "text/plain": [
       "array([[0., 0., 0., 0., 0.],\n",
       "       [0., 0., 0., 0., 0.],\n",
       "       [0., 0., 0., 0., 0.]])"
      ]
     },
     "execution_count": 30,
     "metadata": {},
     "output_type": "execute_result"
    }
   ],
   "source": [
    "np.zeros((3,5))"
   ]
  },
  {
   "cell_type": "code",
   "execution_count": 31,
   "id": "1775c914",
   "metadata": {},
   "outputs": [
    {
     "data": {
      "text/plain": [
       "array([[5., 5., 5., 5., 5.],\n",
       "       [5., 5., 5., 5., 5.],\n",
       "       [5., 5., 5., 5., 5.]])"
      ]
     },
     "execution_count": 31,
     "metadata": {},
     "output_type": "execute_result"
    }
   ],
   "source": [
    "np.zeros((3,5)) + 5"
   ]
  },
  {
   "cell_type": "code",
   "execution_count": 32,
   "id": "e5be5b83",
   "metadata": {},
   "outputs": [
    {
     "data": {
      "text/plain": [
       "array([[-5., -5., -5., -5., -5.],\n",
       "       [-5., -5., -5., -5., -5.],\n",
       "       [-5., -5., -5., -5., -5.]])"
      ]
     },
     "execution_count": 32,
     "metadata": {},
     "output_type": "execute_result"
    }
   ],
   "source": [
    "np.zeros((3,5)) - 5"
   ]
  },
  {
   "cell_type": "code",
   "execution_count": 35,
   "id": "2b7ab3d9",
   "metadata": {},
   "outputs": [
    {
     "data": {
      "text/plain": [
       "array([[[5., 5.],\n",
       "        [5., 5.],\n",
       "        [5., 5.],\n",
       "        [5., 5.],\n",
       "        [5., 5.]],\n",
       "\n",
       "       [[5., 5.],\n",
       "        [5., 5.],\n",
       "        [5., 5.],\n",
       "        [5., 5.],\n",
       "        [5., 5.]],\n",
       "\n",
       "       [[5., 5.],\n",
       "        [5., 5.],\n",
       "        [5., 5.],\n",
       "        [5., 5.],\n",
       "        [5., 5.]],\n",
       "\n",
       "       [[5., 5.],\n",
       "        [5., 5.],\n",
       "        [5., 5.],\n",
       "        [5., 5.],\n",
       "        [5., 5.]]])"
      ]
     },
     "execution_count": 35,
     "metadata": {},
     "output_type": "execute_result"
    }
   ],
   "source": [
    "np.zeros(((4,5,2))) + 5"
   ]
  },
  {
   "cell_type": "code",
   "execution_count": 36,
   "id": "e1bf680b",
   "metadata": {},
   "outputs": [
    {
     "data": {
      "text/plain": [
       "array([[1., 1., 1.],\n",
       "       [1., 1., 1.],\n",
       "       [1., 1., 1.]])"
      ]
     },
     "execution_count": 36,
     "metadata": {},
     "output_type": "execute_result"
    }
   ],
   "source": [
    "np.ones((3,3))"
   ]
  },
  {
   "cell_type": "markdown",
   "id": "4d3bc01e",
   "metadata": {},
   "source": [
    "#### Identity matrix"
   ]
  },
  {
   "cell_type": "code",
   "execution_count": 38,
   "id": "ef432740",
   "metadata": {},
   "outputs": [
    {
     "data": {
      "text/plain": [
       "array([[1., 0., 0., 0.],\n",
       "       [0., 1., 0., 0.],\n",
       "       [0., 0., 1., 0.],\n",
       "       [0., 0., 0., 1.]])"
      ]
     },
     "execution_count": 38,
     "metadata": {},
     "output_type": "execute_result"
    }
   ],
   "source": [
    "np.eye((4))"
   ]
  },
  {
   "cell_type": "code",
   "execution_count": null,
   "id": "fdaafcdc",
   "metadata": {},
   "outputs": [],
   "source": []
  }
 ],
 "metadata": {
  "kernelspec": {
   "display_name": "Python 3 (ipykernel)",
   "language": "python",
   "name": "python3"
  },
  "language_info": {
   "codemirror_mode": {
    "name": "ipython",
    "version": 3
   },
   "file_extension": ".py",
   "mimetype": "text/x-python",
   "name": "python",
   "nbconvert_exporter": "python",
   "pygments_lexer": "ipython3",
   "version": "3.9.12"
  }
 },
 "nbformat": 4,
 "nbformat_minor": 5
}
